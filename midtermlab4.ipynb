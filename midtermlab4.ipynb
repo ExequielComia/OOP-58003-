{
  "nbformat": 4,
  "nbformat_minor": 0,
  "metadata": {
    "colab": {
      "name": "midtermlab4.ipynb",
      "provenance": [],
      "authorship_tag": "ABX9TyNPp6hkAbgJttIz6t9MPdIF",
      "include_colab_link": true
    },
    "kernelspec": {
      "name": "python3",
      "display_name": "Python 3"
    },
    "language_info": {
      "name": "python"
    }
  },
  "cells": [
    {
      "cell_type": "markdown",
      "metadata": {
        "id": "view-in-github",
        "colab_type": "text"
      },
      "source": [
        "<a href=\"https://colab.research.google.com/github/ExequielComia/OOP-58003-/blob/main/midtermlab4.ipynb\" target=\"_parent\"><img src=\"https://colab.research.google.com/assets/colab-badge.svg\" alt=\"Open In Colab\"/></a>"
      ]
    },
    {
      "cell_type": "code",
      "execution_count": 3,
      "metadata": {
        "id": "K82D8BR4Y_kN",
        "colab": {
          "base_uri": "https://localhost:8080/"
        },
        "outputId": "df66a5eb-d55e-4e27-b719-21355d3ceffd"
      },
      "outputs": [
        {
          "output_type": "stream",
          "name": "stdout",
          "text": [
            "Patrick S.\n",
            "Prelim: 5.0\n",
            "Midterm: 2.0\n",
            "Finals: 2.5\n",
            "\n",
            "Average grade is: 3.1666666666666665\n",
            "\n",
            "Quiel C.\n",
            "Prelim: 3.0\n",
            "Midterm: 2.5\n",
            "Finals: 1.5\n",
            "\n",
            "Average grade is: 2.3333333333333335\n",
            "\n",
            "Crinkle S.\n",
            "Prelim: 1.25\n",
            "Midterm: 2.0\n",
            "Finals: 1.75\n",
            "\n",
            "Average grade is: 1.6666666666666667\n",
            "\n"
          ]
        }
      ],
      "source": [
        "class Student:\n",
        "  def __init__(self,std1,pre,mid,fin):\n",
        "    self.std1 = std1\n",
        "    self.pre = pre\n",
        "    self.mid = mid\n",
        "    self.fin = fin\n",
        "\n",
        "  def Grade(self):\n",
        "    print(self.std1)\n",
        "    print(self.pre)\n",
        "    print(self.mid)\n",
        "    print(self.fin)\n",
        "\n",
        "s1 = Student(\"Patrick S.\",'Prelim: 5.0','Midterm: 2.0','Finals: 2.5\\n')\n",
        "s1.Grade()\n",
        "\n",
        "avg =(5.0 + 2.0 + 2.5) / 3\n",
        "print('Average grade is: ' + str(avg)+'\\n')\n",
        "\n",
        "def __init__(self,std2,pre,mid,fin):\n",
        "  self.std2 = std2\n",
        "  self.pre = pre\n",
        "  self.mid = mid\n",
        "  self.fin = fin\n",
        "\n",
        "def Grade(self):\n",
        "  print(self.std2)\n",
        "  print(self.pre)\n",
        "  print(self.mid)\n",
        "  print(self.fin)\n",
        "\n",
        "s2 = Student(\"Quiel C.\",'Prelim: 3.0','Midterm: 2.5','Finals: 1.5\\n')\n",
        "s2.Grade()\n",
        "\n",
        "avg =(3.0 + 2.5 + 1.5) / 3\n",
        "print('Average grade is: ' + str(avg)+'\\n')\n",
        "\n",
        "def __init__(self,std3,pre,mid,fin):\n",
        "  self.std3 = std3\n",
        "  self.pre = pre\n",
        "  self.mid = mid\n",
        "  self.fin = fin\n",
        "\n",
        "def Grade(self):\n",
        "  print(self.std3)\n",
        "  print(self.pre)\n",
        "  print(self.mid)\n",
        "  print(self.fin)\n",
        "\n",
        "s3 = Student(\"Crinkle S.\",'Prelim: 1.25','Midterm: 2.0','Finals: 1.75\\n')\n",
        "s3.Grade()\n",
        "\n",
        "avg =(1.25 + 2.0 + 1.75)/3\n",
        "print('Average grade is: ' + str(avg)+'\\n')"
      ]
    }
  ]
}