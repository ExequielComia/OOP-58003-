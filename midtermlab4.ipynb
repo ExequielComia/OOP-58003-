{
  "nbformat": 4,
  "nbformat_minor": 0,
  "metadata": {
    "colab": {
      "name": "midtermlab4.ipynb",
      "provenance": [],
      "collapsed_sections": [],
      "authorship_tag": "ABX9TyOTp9HPfb0ShyAMaSu4vn8D",
      "include_colab_link": true
    },
    "kernelspec": {
      "name": "python3",
      "display_name": "Python 3"
    },
    "language_info": {
      "name": "python"
    }
  },
  "cells": [
    {
      "cell_type": "markdown",
      "metadata": {
        "id": "view-in-github",
        "colab_type": "text"
      },
      "source": [
        "<a href=\"https://colab.research.google.com/github/ExequielComia/OOP-58003-/blob/main/midtermlab4.ipynb\" target=\"_parent\"><img src=\"https://colab.research.google.com/assets/colab-badge.svg\" alt=\"Open In Colab\"/></a>"
      ]
    },
    {
      "cell_type": "code",
      "execution_count": 8,
      "metadata": {
        "id": "K82D8BR4Y_kN",
        "colab": {
          "base_uri": "https://localhost:8080/"
        },
        "outputId": "19428759-720e-4d3c-c9dc-6bf05e228354"
      },
      "outputs": [
        {
          "output_type": "stream",
          "name": "stdout",
          "text": [
            "Patrick S.\n",
            "Prelim: 5.0\n",
            "Midterm: 2.0\n",
            "Finals: 2.5\n",
            "\n",
            "Average grade is: 3.1666666666666665\n",
            "\n",
            "Quiel C.\n",
            "Prelim: 3.0\n",
            "Midterm: 2.5\n",
            "Finals: 1.5\n",
            "\n",
            "Average grade is: 2.3333333333333335\n",
            "\n",
            "Crinkle S.\n",
            "Prelim: 1.25\n",
            "Midterm: 2.0\n",
            "Finals: 1.75\n",
            "\n",
            "Average grade is: 1.6666666666666667\n",
            "\n"
          ]
        }
      ],
      "source": [
        "class Person:\n",
        "  def __init__(self,std1, prelim, midterm, final):\n",
        "    self.std1 = std1\n",
        "    self.prelim = prelim\n",
        "    self.midterm = midterm\n",
        "    self.final = final\n",
        "\n",
        "  def Grade(self):\n",
        "    print(self.std1)\n",
        "    print(self.prelim)\n",
        "    print(self.midterm)\n",
        "    print(self.final)\n",
        "\n",
        "stu1 = Person(\"Patrick S.\",'Prelim: 5.0','Midterm: 2.0','Finals: 2.5\\n')\n",
        "stu1.Grade()\n",
        "\n",
        "average =(5.0 + 2.0 + 2.5) / 3\n",
        "print('Average grade is: ' + str(average)+'\\n')\n",
        "\n",
        "def __init__(self,std2, prelim, midterm, final):\n",
        "  self.std2 = std2\n",
        "  self.prelim = prelim\n",
        "  self.midterm = midterm\n",
        "  self.final = final\n",
        "\n",
        "def Grade(self):\n",
        "  print(self.std2)\n",
        "  print(self.prelim)\n",
        "  print(self.midterm)\n",
        "  print(self.final)\n",
        "\n",
        "student2 = Person(\"Quiel C.\",'Prelim: 3.0','Midterm: 2.5','Finals: 1.5\\n')\n",
        "student2.Grade()\n",
        "\n",
        "average =(3.0 + 2.5 + 1.5) / 3\n",
        "print('Average grade is: ' + str(average)+'\\n')\n",
        "\n",
        "def __init__(self,std3,prelim,midterm,final):\n",
        "  self.std3 = std3\n",
        "  self.prelim = prelim\n",
        "  self.midterm = midterm\n",
        "  self.final = final\n",
        "\n",
        "def Grade(self):\n",
        "  print(self.std3)\n",
        "  print(self.prelim)\n",
        "  print(self.midterm)\n",
        "  print(self.final)\n",
        "\n",
        "student3 = Person(\"Crinkle S.\",'Prelim: 1.25','Midterm: 2.0','Finals: 1.75\\n')\n",
        "student3.Grade()\n",
        "\n",
        "average =(1.25 + 2.0 + 1.75)/3\n",
        "print('Average grade is: ' + str(average)+'\\n')\n",
        "\n"
      ]
    }
  ]
}