{
  "nbformat": 4,
  "nbformat_minor": 0,
  "metadata": {
    "colab": {
      "name": "Copy of Untitled2.ipynb",
      "provenance": [],
      "authorship_tag": "ABX9TyPZ22KSpwOiufP0PXT4tWaL",
      "include_colab_link": true
    },
    "kernelspec": {
      "name": "python3",
      "display_name": "Python 3"
    },
    "language_info": {
      "name": "python"
    }
  },
  "cells": [
    {
      "cell_type": "markdown",
      "metadata": {
        "id": "view-in-github",
        "colab_type": "text"
      },
      "source": [
        "<a href=\"https://colab.research.google.com/github/ExequielComia/OOP-58003-/blob/main/LongQuiz.ipynb\" target=\"_parent\"><img src=\"https://colab.research.google.com/assets/colab-badge.svg\" alt=\"Open In Colab\"/></a>"
      ]
    },
    {
      "cell_type": "code",
      "execution_count": null,
      "metadata": {
        "colab": {
          "base_uri": "https://localhost:8080/"
        },
        "id": "oGgW6Mt-3Yy7",
        "outputId": "922e0883-de43-466a-965e-6a70c84f9caf"
      },
      "outputs": [
        {
          "output_type": "stream",
          "name": "stdout",
          "text": [
            "Welcome to EOC Online Banking Account Number: 122803154367 , Account Owner: Exequiel Comia\n",
            "Enter amount you wish to deposit:100\n",
            "Enter amount you wish to withdraw:90\n",
            "\n",
            " Successfully withdrew: 90\n",
            "\n",
            " Available Funds in account:  10\n"
          ]
        }
      ],
      "source": [
        "class Bank_Account:\n",
        "\n",
        "  def __init__(self):    \n",
        "      self.balance=0\n",
        "      self.acc_no=122803154367\n",
        "      self.acc_owner=\"Exequiel Comia\"\n",
        "      print(\"Welcome to EOC Online Banking\", \"Account Number:\", self.acc_no, \",\", \"Account Owner:\", self.acc_owner)\n",
        "\n",
        "  def deposit(self):\n",
        "      amount=int(input('Enter amount you wish to deposit:'))\n",
        "      self.balance+=amount\n",
        "\n",
        "  def withdraw(self):\n",
        "      amount=int(input('Enter amount you wish to withdraw:'))\n",
        "      if self.balance>=amount:\n",
        "          self.balance-=amount\n",
        "          print(\"\\n Successfully withdrew:\", amount)\n",
        "      else:\n",
        "         print(\"\\n Insufficient funds \")\n",
        "\n",
        "  def display(self):\n",
        "      print(\"\\n Available Funds in account: \", self.balance)\n",
        "\n",
        "manage = Bank_Account()\n",
        "manage.deposit()\n",
        "manage.withdraw()\n",
        "manage.display()\n",
        "\n",
        "\n",
        "  \n",
        "\n"
      ]
    }
  ]
}